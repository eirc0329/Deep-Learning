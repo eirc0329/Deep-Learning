{
  "cells": [
    {
      "cell_type": "code",
      "source": [
        "%matplotlib inline\n",
        "from pylab import *\n",
        "from sklearn.model_selection import train_test_split\n",
        "\n",
        "import os\n",
        "if not os.path.exists(\"output/\") : os.mkdir(\"output/\")\n",
        "if not os.path.exists(\"data/\") : os.mkdir(\"data/\")\n",
        "\n",
        "import warnings\n",
        "warnings.filterwarnings(\"ignore\")"
      ],
      "metadata": {
        "id": "xRaBxgldRC_I"
      },
      "execution_count": 1,
      "outputs": []
    },
    {
      "cell_type": "code",
      "source": [
        "import pandas as pd\n",
        "import numpy as np\n",
        "# download the dataset\n",
        "import urllib.request\n",
        "\n",
        "urllib.request.urlretrieve(\"https://nthu-datalab.github.io/ml/labs/05_Regularization/data/X_train.csv\", \"./data/X_train.csv\")\n",
        "urllib.request.urlretrieve(\"https://nthu-datalab.github.io/ml/labs/05_Regularization/data/y_train.csv\", \"./data/y_train.csv\")\n",
        "urllib.request.urlretrieve(\"https://nthu-datalab.github.io/ml/labs/05_Regularization/data/X_test.csv\", \"./data/X_test.csv\")\n",
        "\n",
        "X = pd.read_csv('./data/X_train.csv')\n",
        "y = pd.read_csv('./data/y_train.csv')\n",
        "X_test_final = pd.read_csv('./data/X_test.csv')\n",
        "print(X_test_final)\n"
      ],
      "metadata": {
        "id": "ozesVCrZ1kvn",
        "colab": {
          "base_uri": "https://localhost:8080/"
        },
        "outputId": "bb177551-f9ff-4225-c912-fe03734b4cf0"
      },
      "execution_count": 2,
      "outputs": [
        {
          "output_type": "stream",
          "name": "stdout",
          "text": [
            "       PERIOD  GAME_CLOCK  SHOT_CLOCK  DRIBBLES  TOUCH_TIME  SHOT_DIST  \\\n",
            "0           3         595        11.3         1         1.8        3.9   \n",
            "1           2         530        11.0         0         1.0       24.3   \n",
            "2           1         221        21.3         2         1.9        3.5   \n",
            "3           3         442         9.0         0         0.6        2.4   \n",
            "4           1         634        16.1         0         0.8        4.2   \n",
            "...       ...         ...         ...       ...         ...        ...   \n",
            "36746       2         650        16.6         1         1.9       22.4   \n",
            "36747       1         598        10.3         2         2.7       22.6   \n",
            "36748       4         294         1.1         2         8.6       24.8   \n",
            "36749       1          75        13.7         1         2.3        9.7   \n",
            "36750       2         252         7.0         6         4.6        6.4   \n",
            "\n",
            "       PTS_TYPE  CLOSE_DEF_DIST  \n",
            "0             2             0.3  \n",
            "1             3             6.3  \n",
            "2             2            11.5  \n",
            "3             2             3.4  \n",
            "4             2             1.6  \n",
            "...         ...             ...  \n",
            "36746         3             4.1  \n",
            "36747         2             4.9  \n",
            "36748         3             2.7  \n",
            "36749         2             1.9  \n",
            "36750         2             1.9  \n",
            "\n",
            "[36751 rows x 8 columns]\n"
          ]
        }
      ]
    },
    {
      "cell_type": "markdown",
      "source": [
        "Remember that for weight decay to work properly, we need to ensure that all our features are on comparable scales:"
      ],
      "metadata": {
        "id": "9YjJGT0m5j9A"
      }
    },
    {
      "cell_type": "code",
      "source": [
        "from sklearn.preprocessing import StandardScaler\n",
        "\n",
        "\n",
        "sc_x = StandardScaler()\n",
        "X_std = sc_x.fit_transform(X)\n",
        "X_test_std = sc_x.fit_transform(X_test_final)"
      ],
      "metadata": {
        "id": "6CZI8ad95g8d"
      },
      "execution_count": 3,
      "outputs": []
    },
    {
      "cell_type": "markdown",
      "source": [
        "RidgeClassifier with alpha = 100.Evalute Degree from 1 to 5, Degree=2 is the best.\n"
      ],
      "metadata": {
        "id": "cqAUkItRHRuY"
      }
    },
    {
      "cell_type": "code",
      "source": [
        "from sklearn.preprocessing import PolynomialFeatures\n",
        "from sklearn.linear_model import RidgeClassifier\n",
        "from sklearn.metrics import mean_squared_error\n",
        "from sklearn.metrics import log_loss\n",
        "from sklearn.metrics import accuracy_score\n",
        "for d in range(1, 6):\n",
        "    poly = PolynomialFeatures(degree=d)\n",
        "    X_poly = poly.fit_transform(X_std)\n",
        "\n",
        "    X_train, X_valid, y_train, y_valid = train_test_split(\n",
        "        X_poly, y, test_size=0.3, random_state=0)\n",
        "\n",
        "    rg = RidgeClassifier(alpha=100)\n",
        "    rg.fit(X_train, y_train)\n",
        "\n",
        "    y_train_pred = rg.predict(X_train)\n",
        "    y_valid_pred = rg.predict(X_valid)\n",
        "    print('RidgeClassifier with alpha = 100')\n",
        "    print('\\n[Degree = %d]' % d)\n",
        "    print('MSE train: %.4f, valid: %.4f' % (\n",
        "                    mean_squared_error(y_train, y_train_pred),\n",
        "                    mean_squared_error(y_valid, y_valid_pred),))\n",
        "    print('log_loss train: %.2f, valid: %.2f' % (\n",
        "                    log_loss(y_train, y_train_pred),\n",
        "                    log_loss(y_valid, y_valid_pred),))\n",
        "    print('accuracy_score train: %.5f, valid: %.5f' % (\n",
        "                    accuracy_score(y_train, y_train_pred),\n",
        "                    accuracy_score(y_valid, y_valid_pred),))\n"
      ],
      "metadata": {
        "colab": {
          "base_uri": "https://localhost:8080/"
        },
        "id": "0Or0Cvmj6dyq",
        "outputId": "497ff21c-8992-4c82-d5ee-4dde619d6e83"
      },
      "execution_count": 4,
      "outputs": [
        {
          "output_type": "stream",
          "name": "stdout",
          "text": [
            "RidgeClassifier with alpha = 100\n",
            "\n",
            "[Degree = 1]\n",
            "MSE train: 0.3922, valid: 0.3905\n",
            "log_loss train: 14.14, valid: 14.08\n",
            "accuracy_score train: 0.60780, valid: 0.60946\n",
            "RidgeClassifier with alpha = 100\n",
            "\n",
            "[Degree = 2]\n",
            "MSE train: 0.3822, valid: 0.3857\n",
            "log_loss train: 13.77, valid: 13.90\n",
            "accuracy_score train: 0.61783, valid: 0.61428\n",
            "RidgeClassifier with alpha = 100\n",
            "\n",
            "[Degree = 3]\n",
            "MSE train: 0.3811, valid: 0.3861\n",
            "log_loss train: 13.74, valid: 13.92\n",
            "accuracy_score train: 0.61893, valid: 0.61389\n",
            "RidgeClassifier with alpha = 100\n",
            "\n",
            "[Degree = 4]\n",
            "MSE train: 0.3783, valid: 0.3888\n",
            "log_loss train: 13.63, valid: 14.01\n",
            "accuracy_score train: 0.62172, valid: 0.61117\n",
            "RidgeClassifier with alpha = 100\n",
            "\n",
            "[Degree = 5]\n",
            "MSE train: 0.3736, valid: 0.3907\n",
            "log_loss train: 13.47, valid: 14.08\n",
            "accuracy_score train: 0.62641, valid: 0.60931\n"
          ]
        }
      ]
    },
    {
      "cell_type": "markdown",
      "source": [
        "RidgeClassifier with degree = 2.Evalute different alpha and alpha = 1 is the best\n"
      ],
      "metadata": {
        "id": "EZMFWzs0H7T0"
      }
    },
    {
      "cell_type": "code",
      "source": [
        "from sklearn.preprocessing import PolynomialFeatures\n",
        "from sklearn.linear_model import RidgeClassifier\n",
        "from sklearn.metrics import mean_squared_error\n",
        "from sklearn.metrics import log_loss\n",
        "from sklearn.metrics import accuracy_score\n",
        "\n",
        "poly = PolynomialFeatures(degree=2)\n",
        "X_poly = poly.fit_transform(X_std)\n",
        "X_train, X_valid, y_train, y_valid = train_test_split(\n",
        "      X_poly, y, test_size=0.3, random_state=0)\n",
        "for a in [0.1,1,10,100,1000]:\n",
        "\n",
        "    rg = RidgeClassifier(alpha=a)\n",
        "    rg.fit(X_train, y_train)\n",
        "\n",
        "    y_train_pred = rg.predict(X_train)\n",
        "    y_valid_pred = rg.predict(X_valid)\n",
        "    print('\\n[RidgeClassifier with alpha %.1f]'%a)\n",
        "\n",
        "    print('\\nMSE train: %.5f, valid: %.5f' % (\n",
        "                    mean_squared_error(y_train, y_train_pred),\n",
        "                    mean_squared_error(y_valid, y_valid_pred),))\n",
        "    print('log_loss train: %.5f, valid: %.5f' % (\n",
        "                    log_loss(y_train, y_train_pred),\n",
        "                    log_loss(y_valid, y_valid_pred),))\n",
        "    print('accuracy_score train: %.5f, valid: %.5f' % (\n",
        "                    accuracy_score(y_train, y_train_pred),\n",
        "                    accuracy_score(y_valid, y_valid_pred),))"
      ],
      "metadata": {
        "colab": {
          "base_uri": "https://localhost:8080/"
        },
        "id": "jGX9tak1dvdG",
        "outputId": "76eda7e0-7e78-4e61-f6ea-161604f41a8d"
      },
      "execution_count": 5,
      "outputs": [
        {
          "output_type": "stream",
          "name": "stdout",
          "text": [
            "\n",
            "[RidgeClassifier with alpha 0.1]\n",
            "\n",
            "MSE train: 0.38231, valid: 0.38510\n",
            "log_loss train: 13.77975, valid: 13.88030\n",
            "accuracy_score train: 0.61769, valid: 0.61490\n",
            "\n",
            "[RidgeClassifier with alpha 1.0]\n",
            "\n",
            "MSE train: 0.38231, valid: 0.38506\n",
            "log_loss train: 13.77975, valid: 13.87889\n",
            "accuracy_score train: 0.61769, valid: 0.61494\n",
            "\n",
            "[RidgeClassifier with alpha 10.0]\n",
            "\n",
            "MSE train: 0.38222, valid: 0.38510\n",
            "log_loss train: 13.77675, valid: 13.88030\n",
            "accuracy_score train: 0.61778, valid: 0.61490\n",
            "\n",
            "[RidgeClassifier with alpha 100.0]\n",
            "\n",
            "MSE train: 0.38217, valid: 0.38572\n",
            "log_loss train: 13.77495, valid: 13.90271\n",
            "accuracy_score train: 0.61783, valid: 0.61428\n",
            "\n",
            "[RidgeClassifier with alpha 1000.0]\n",
            "\n",
            "MSE train: 0.38266, valid: 0.38650\n",
            "log_loss train: 13.79236, valid: 13.93073\n",
            "accuracy_score train: 0.61734, valid: 0.61350\n"
          ]
        }
      ]
    },
    {
      "cell_type": "markdown",
      "source": [
        "Degree = 2 isn't over-fit."
      ],
      "metadata": {
        "id": "LiB-nvGjQ14H"
      }
    },
    {
      "cell_type": "code",
      "source": [
        "mse_train = []\n",
        "mse_test = []\n",
        "\n",
        "max_degree = 6\n",
        "\n",
        "for d in range(1, max_degree):\n",
        "\n",
        "    poly = PolynomialFeatures(degree=d)\n",
        "    X_poly = poly.fit_transform(X_std)\n",
        "\n",
        "    X_train, X_valid, y_train, y_valid = train_test_split(\n",
        "        X_poly, y, test_size=0.3, random_state=0)\n",
        "\n",
        "    rg = RidgeClassifier()\n",
        "    rg.fit(X_train, y_train)\n",
        "\n",
        "    y_train_pred = rg.predict(X_train)\n",
        "    y_valid_pred = rg.predict(X_valid)\n",
        "\n",
        "    mse_train.append(mean_squared_error(y_train, y_train_pred))\n",
        "    mse_test.append(mean_squared_error(y_valid, y_valid_pred))\n",
        "    print(mean_squared_error(y_valid, y_valid_pred))\n",
        "\n",
        "\n",
        "plt.plot(range(1, max_degree), mse_train, label = 'Training error', color = 'blue', linewidth = 2)\n",
        "plt.plot(range(1, max_degree), mse_test, label = 'Testing error', color = 'red', linewidth = 2)\n",
        "plt.legend(loc='upper right')\n",
        "plt.xlabel('Model complexity (polynomial degree)')\n",
        "plt.ylabel('$MSE$')\n",
        "plt.tight_layout()\n",
        "plt.savefig('./output/fig-error-curve.png', dpi=300)\n",
        "plt.show()"
      ],
      "metadata": {
        "colab": {
          "base_uri": "https://localhost:8080/",
          "height": 574
        },
        "id": "7aan4jGoJ1XI",
        "outputId": "b709b09d-cfd2-40de-8234-cb152a790a38"
      },
      "execution_count": 6,
      "outputs": [
        {
          "output_type": "stream",
          "name": "stdout",
          "text": [
            "0.3903443986628314\n",
            "0.38505791805955064\n",
            "0.3863017958485579\n",
            "0.389333747959263\n",
            "0.39166601881365154\n"
          ]
        },
        {
          "output_type": "display_data",
          "data": {
            "text/plain": [
              "<Figure size 640x480 with 1 Axes>"
            ],
            "image/png": "[encoded data removed]"
          },
          "metadata": {}
        }
      ]
    },
    {
      "cell_type": "code",
      "source": [
        "from sklearn.linear_model import Lasso\n",
        "X_train, X_test, y_train, y_test = train_test_split(\n",
        "    X_std, y, test_size=0.3, random_state=0)\n",
        "\n",
        "max_alpha = 10\n",
        "coef_ = np.zeros((max_alpha,8))\n",
        "\n",
        "for a in range(10):\n",
        "    lr_rg = Lasso(alpha=a+0.1)\n",
        "    lr_rg.fit(X_train, y_train)\n",
        "\n",
        "    y_train_pred = lr_rg.predict(X_train)\n",
        "    y_test_pred = lr_rg.predict(X_test)\n",
        "    coef_[a,:] = lr_rg.coef_.reshape(1,-1)\n",
        "\n",
        "plt.hlines(y=0, xmin=0, xmax=max_alpha, color='red', linewidth = 2, linestyle = '--')\n",
        "\n",
        "for i in range(8):\n",
        "    plt.plot(range(max_alpha),coef_[:,i])\n",
        "\n",
        "plt.ylabel('Coefficients')\n",
        "plt.xlabel('Alpha')\n",
        "plt.tight_layout()\n",
        "plt.savefig('./output/fig-ridge-decay.png', dpi=300)\n",
        "plt.show()"
      ],
      "metadata": {
        "colab": {
          "base_uri": "https://localhost:8080/",
          "height": 487
        },
        "id": "7Ltai1sagcbh",
        "outputId": "297033a3-f5ee-423d-8c8b-561d472db003"
      },
      "execution_count": 7,
      "outputs": [
        {
          "output_type": "display_data",
          "data": {
            "text/plain": [
              "<Figure size 640x480 with 1 Axes>"
            ],
            "image/png": "[encoded data removed]"
          },
          "metadata": {}
        }
      ]
    },
    {
      "cell_type": "markdown",
      "source": [
        "Since we can choose a suitable regularization strength  \n",
        "alpha = 0.03 with LASSO,we have only three coefficients that are't\n",
        " zeros."
      ],
      "metadata": {
        "id": "jzGqDHwcIW7D"
      }
    },
    {
      "cell_type": "code",
      "source": [
        "var_num = X_train.shape[1]\n",
        "\n",
        "lr_lasso = Lasso(alpha = 0.03)\n",
        "lr_lasso.fit(X_train, y_train)\n",
        "\n",
        "\n",
        "plt.scatter(range(var_num),lr_lasso.coef_, label = 'LASSO', color = 'blue')\n",
        "\n",
        "plt.hlines(y=0, xmin=0, xmax=var_num-1, color='red', linestyle ='--')\n",
        "plt.xlim(0,12)\n",
        "plt.legend(loc = 'upper right')\n",
        "plt.xlabel('Coefficients index')\n",
        "plt.ylabel('Coefficients')\n",
        "plt.tight_layout()\n",
        "plt.show()\n",
        "\n",
        "epsilon = 1e-4\n",
        "idxs = np.where(abs(lr_lasso.coef_) > epsilon)\n",
        "print('Selected attributes: {}'.format(X.columns.values[idxs]))"
      ],
      "metadata": {
        "colab": {
          "base_uri": "https://localhost:8080/",
          "height": 504
        },
        "id": "qD0W6_6pXqpf",
        "outputId": "a62adde6-54b6-48a1-b5e5-3b9c2c35b81e"
      },
      "execution_count": 8,
      "outputs": [
        {
          "output_type": "display_data",
          "data": {
            "text/plain": [
              "<Figure size 640x480 with 1 Axes>"
            ],
            "image/png": "[encoded data removed]"
          },
          "metadata": {}
        },
        {
          "output_type": "stream",
          "name": "stdout",
          "text": [
            "Selected attributes: ['SHOT_CLOCK' 'SHOT_DIST' 'CLOSE_DEF_DIST']\n"
          ]
        }
      ]
    },
    {
      "cell_type": "markdown",
      "source": [
        "Train the model with RidgeClassifier with alpha = 1, degree = 2 and the only 3 features selected in the LASSO's method., and present the training error."
      ],
      "metadata": {
        "id": "oX0kpzoUJFoh"
      }
    },
    {
      "cell_type": "code",
      "source": [
        "\n",
        "print(X_std.shape)\n",
        "X_std_feat = X_std[:,list(*idxs)]\n",
        "print(X_std_feat.shape)\n",
        "poly = PolynomialFeatures(degree=2)\n",
        "X_poly = poly.fit_transform(X_std_feat)\n",
        "X_train, X_valid, y_train, y_valid = train_test_split(\n",
        "      X_poly, y, test_size=0.3, random_state=0)\n",
        "\n",
        "rg = RidgeClassifier(alpha=1)\n",
        "rg.fit(X_train, y_train)\n",
        "\n",
        "y_train_pred = rg.predict(X_train)\n",
        "y_valid_pred = rg.predict(X_valid)\n",
        "print('\\n[RidgeClassifier with alpha 1,degree = 2]')\n",
        "\n",
        "print('\\nMSE train: %.5f, valid: %.5f' % (\n",
        "                mean_squared_error(y_train, y_train_pred),\n",
        "                mean_squared_error(y_valid, y_valid_pred),))\n",
        "print('log_loss train: %.5f, valid: %.5f' % (\n",
        "                log_loss(y_train, y_train_pred),\n",
        "                log_loss(y_valid, y_valid_pred),))\n",
        "print('accuracy_score train: %.5f, valid: %.5f' % (\n",
        "                accuracy_score(y_train, y_train_pred),\n",
        "                accuracy_score(y_valid, y_valid_pred),))"
      ],
      "metadata": {
        "colab": {
          "base_uri": "https://localhost:8080/"
        },
        "id": "hP75q9w_ZNUJ",
        "outputId": "af026420-f5e6-4ae0-9d5d-f8fec341a403"
      },
      "execution_count": 9,
      "outputs": [
        {
          "output_type": "stream",
          "name": "stdout",
          "text": [
            "(85751, 8)\n",
            "(85751, 3)\n",
            "\n",
            "[RidgeClassifier with alpha 1,degree = 2]\n",
            "\n",
            "MSE train: 0.38636, valid: 0.38770\n",
            "log_loss train: 13.92567, valid: 13.97417\n",
            "accuracy_score train: 0.61364, valid: 0.61230\n"
          ]
        }
      ]
    },
    {
      "cell_type": "markdown",
      "source": [
        "Export the predictions of the model."
      ],
      "metadata": {
        "id": "SSV6rX8Zmrgk"
      }
    },
    {
      "cell_type": "code",
      "source": [
        "X_test_std_feat = X_test_std[:,list(*idxs)]\n",
        "poly = PolynomialFeatures(degree=2)\n",
        "X_poly = poly.fit_transform(X_test_std_feat)\n",
        "\n",
        "y_test_pred = rg.predict(X_poly)\n",
        "\n",
        "\n",
        "df = pd.DataFrame(y_test_pred,columns=['FGM'])\n",
        "df.index = df.index.rename(None)\n",
        "\n",
        "print(df.shape)\n",
        "print(y_train.shape)\n",
        "df.to_csv('./output/Lab05_112062559_y_pred.csv',index = False)"
      ],
      "metadata": {
        "colab": {
          "base_uri": "https://localhost:8080/"
        },
        "id": "I-juhQqrUMtl",
        "outputId": "dd7092b7-155e-45cd-ffd1-95bc821a6425"
      },
      "execution_count": 10,
      "outputs": [
        {
          "output_type": "stream",
          "name": "stdout",
          "text": [
            "(36751, 1)\n",
            "(60025, 1)\n"
          ]
        }
      ]
    },
    {
      "cell_type": "markdown",
      "source": [
        "#report:\n",
        "- I chose RidgeClassifier as my linear model with all features and I found that degree = 2 and alpha = 1 have the best performance.  \n",
        "  \n",
        "\n",
        "- By plotting the error curve we can see that from degree = 1 to degree = 2 the validation error goes down but it goes up after degree = 3, so it's over-fit after degree = 3.  \n",
        "  \n",
        "- By using Lasso' method, Since we can choose a suitable regularization strength\n",
        "alpha = 0.03 with LASSO,we have only three coefficients that are't zeros.\n",
        "   \n",
        "- With these three feature I trained the model again and predict X_test.\n",
        "\n"
      ],
      "metadata": {
        "id": "fRn5ezKem69Y"
      }
    }
  ],
  "metadata": {
    "colab": {
      "provenance": []
    },
    "kernelspec": {
      "display_name": "Python 3",
      "name": "python3"
    },
    "language_info": {
      "name": "python"
    }
  },
  "nbformat": 4,
  "nbformat_minor": 0
}